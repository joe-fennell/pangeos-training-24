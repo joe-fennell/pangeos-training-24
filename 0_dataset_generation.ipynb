{
 "cells": [
  {
   "cell_type": "code",
   "execution_count": 97,
   "id": "4e84c377-ccb9-4bd9-95b6-2335f466d195",
   "metadata": {},
   "outputs": [],
   "source": [
    "import hsman\n",
    "import xarray\n",
    "import geopandas\n",
    "from download import download_course_data"
   ]
  },
  {
   "cell_type": "code",
   "execution_count": 3,
   "id": "6ede68ec-56c2-4702-9dac-1a96ecadb9ac",
   "metadata": {},
   "outputs": [
    {
     "data": {
      "text/html": [
       "<div>\n",
       "<style scoped>\n",
       "    .dataframe tbody tr th:only-of-type {\n",
       "        vertical-align: middle;\n",
       "    }\n",
       "\n",
       "    .dataframe tbody tr th {\n",
       "        vertical-align: top;\n",
       "    }\n",
       "\n",
       "    .dataframe thead th {\n",
       "        text-align: right;\n",
       "    }\n",
       "</style>\n",
       "<table border=\"1\" class=\"dataframe\">\n",
       "  <thead>\n",
       "    <tr style=\"text-align: right;\">\n",
       "      <th></th>\n",
       "      <th>index</th>\n",
       "      <th>dataset</th>\n",
       "      <th>geometry</th>\n",
       "      <th>Site</th>\n",
       "      <th>type</th>\n",
       "      <th>date</th>\n",
       "    </tr>\n",
       "    <tr>\n",
       "      <th>ID</th>\n",
       "      <th></th>\n",
       "      <th></th>\n",
       "      <th></th>\n",
       "      <th></th>\n",
       "      <th></th>\n",
       "      <th></th>\n",
       "    </tr>\n",
       "  </thead>\n",
       "  <tbody>\n",
       "    <tr>\n",
       "      <th>OUMI1202006221</th>\n",
       "      <td>54</td>\n",
       "      <td>OUMI1202006221_DSM_aerial</td>\n",
       "      <td>POLYGON ((-0.83758 52.04093, -0.69362 52.03820...</td>\n",
       "      <td>OUMI1</td>\n",
       "      <td>DSM</td>\n",
       "      <td>2020-06-22</td>\n",
       "    </tr>\n",
       "    <tr>\n",
       "      <th>OUMI1202006221</th>\n",
       "      <td>33</td>\n",
       "      <td>OUMI1202006221_DTM_aerial</td>\n",
       "      <td>POLYGON ((-0.83758 52.04093, -0.69362 52.03820...</td>\n",
       "      <td>OUMI1</td>\n",
       "      <td>DTM</td>\n",
       "      <td>2020-06-22</td>\n",
       "    </tr>\n",
       "    <tr>\n",
       "      <th>OUMI1202006221</th>\n",
       "      <td>28</td>\n",
       "      <td>OUMI1202006221_RGB_aerial</td>\n",
       "      <td>POLYGON ((-0.83758 52.04092, -0.69348 52.03819...</td>\n",
       "      <td>OUMI1</td>\n",
       "      <td>RGB</td>\n",
       "      <td>2020-06-22</td>\n",
       "    </tr>\n",
       "    <tr>\n",
       "      <th>OUMI1202006221</th>\n",
       "      <td>64</td>\n",
       "      <td>OUMI1202006221_SWIR_aerial</td>\n",
       "      <td>POLYGON ((-0.83587 52.03894, -0.69733 52.03632...</td>\n",
       "      <td>OUMI1</td>\n",
       "      <td>SWIR</td>\n",
       "      <td>2020-06-22</td>\n",
       "    </tr>\n",
       "    <tr>\n",
       "      <th>OUMI1202006221</th>\n",
       "      <td>21</td>\n",
       "      <td>OUMI1202006221_VNIR_aerial</td>\n",
       "      <td>POLYGON ((-0.83612 52.03896, -0.69738 52.03632...</td>\n",
       "      <td>OUMI1</td>\n",
       "      <td>VNIR</td>\n",
       "      <td>2020-06-22</td>\n",
       "    </tr>\n",
       "  </tbody>\n",
       "</table>\n",
       "</div>"
      ],
      "text/plain": [
       "                index                     dataset  \\\n",
       "ID                                                  \n",
       "OUMI1202006221     54   OUMI1202006221_DSM_aerial   \n",
       "OUMI1202006221     33   OUMI1202006221_DTM_aerial   \n",
       "OUMI1202006221     28   OUMI1202006221_RGB_aerial   \n",
       "OUMI1202006221     64  OUMI1202006221_SWIR_aerial   \n",
       "OUMI1202006221     21  OUMI1202006221_VNIR_aerial   \n",
       "\n",
       "                                                         geometry   Site  \\\n",
       "ID                                                                         \n",
       "OUMI1202006221  POLYGON ((-0.83758 52.04093, -0.69362 52.03820...  OUMI1   \n",
       "OUMI1202006221  POLYGON ((-0.83758 52.04093, -0.69362 52.03820...  OUMI1   \n",
       "OUMI1202006221  POLYGON ((-0.83758 52.04092, -0.69348 52.03819...  OUMI1   \n",
       "OUMI1202006221  POLYGON ((-0.83587 52.03894, -0.69733 52.03632...  OUMI1   \n",
       "OUMI1202006221  POLYGON ((-0.83612 52.03896, -0.69738 52.03632...  OUMI1   \n",
       "\n",
       "                type       date  \n",
       "ID                               \n",
       "OUMI1202006221   DSM 2020-06-22  \n",
       "OUMI1202006221   DTM 2020-06-22  \n",
       "OUMI1202006221   RGB 2020-06-22  \n",
       "OUMI1202006221  SWIR 2020-06-22  \n",
       "OUMI1202006221  VNIR 2020-06-22  "
      ]
     },
     "execution_count": 3,
     "metadata": {},
     "output_type": "execute_result"
    }
   ],
   "source": [
    "hsman.get_datasets().set_index('ID').loc['OUMI1202006221']"
   ]
  },
  {
   "cell_type": "code",
   "execution_count": 8,
   "id": "b98f1cb4-f9f3-41b0-835e-cf1f2efb5cb2",
   "metadata": {},
   "outputs": [],
   "source": [
    "df1 = hsman.open_dataset('OUMI1202006221_VNIR_aerial')\n",
    "df2 = hsman.open_dataset('OUMI1202006221_SWIR_aerial')\n",
    "\n",
    "# clip large dataset to area of annotation\n",
    "gdf1 = geopandas.read_file('data/MK_1.gpkg')\n",
    "df1_mk_1 = df1.rio.clip_box(*gdf1.total_bounds).astype('uint16').compute()\n",
    "df2_mk_1 = df2.rio.clip_box(*gdf1.total_bounds).astype('uint16').compute()\n",
    "\n",
    "df1_mk_1.to_netcdf('data/mk_1_vnir.nc')\n",
    "df2_mk_1.to_netcdf('data/mk_1_swir.nc')"
   ]
  },
  {
   "cell_type": "code",
   "execution_count": 104,
   "id": "8e4ccae4-8861-4a34-bfcb-c1f83e3ddc3a",
   "metadata": {},
   "outputs": [
    {
     "data": {
      "text/plain": [
       "['S2B_MSIL1C_20211202T111329_N0301_R137_T30UXC_20211202T120633.SAFE',\n",
       " 'S2B_MSIL2A_20211202T111329_N0301_R137_T30UXC_20211202T125422.SAFE',\n",
       " 'S2A_MSIL2A_20200625T110631_N0214_R137_T30UXC_20200625T122333.SAFE',\n",
       " 'S2A_MSIL1C_20200625T110631_N0209_R137_T30UXC_20200625T114101.SAFE',\n",
       " '.ipynb_checkpoints']"
      ]
     },
     "execution_count": 104,
     "metadata": {},
     "output_type": "execute_result"
    }
   ],
   "source": [
    "s2_root = '/STEM/data/project/Treeview/satellite/sentinel2/'\n",
    "os.listdir(s2_root)"
   ]
  },
  {
   "cell_type": "code",
   "execution_count": 107,
   "id": "e8c55243-327a-479f-ad5e-6ab2f9796b3c",
   "metadata": {},
   "outputs": [],
   "source": [
    "import xmltodict\n",
    "def get_meta_data(fpath):\n",
    "    # try 2A\n",
    "    try:\n",
    "        with open(fpath, 'r') as f:\n",
    "            return xmltodict.parse(f.read())\n",
    "    except FileNotFoundError:\n",
    "        try:\n",
    "            _fpath = os.path.join(fpath, 'MTD_MSIL2A.xml')\n",
    "            with open(_fpath, 'r') as f:\n",
    "                return xmltodict.parse(f.read())\n",
    "        except FileNotFoundError:\n",
    "            _fpath = os.path.join(fpath, 'MTD_MSIL1C.xml')\n",
    "            with open(_fpath, 'r') as f:\n",
    "                return xmltodict.parse(f.read())\n",
    "            \n",
    "def get_angles(fpath):\n",
    "    def _parse(entry):\n",
    "        return float(entry['#text'])\n",
    "    angle_dict = get_meta_data(fpath)['n1:Level-1C_Tile_ID']['n1:Geometric_Info']['Tile_Angles']\n",
    "    angles = {}\n",
    "    for k in ['ZENITH_ANGLE', 'AZIMUTH_ANGLE']:\n",
    "        angles['SOLAR_'+k] = _parse(angle_dict['Mean_Sun_Angle'][k])\n",
    "        angles['VIEW_'+k] = _parse(angle_dict['Mean_Viewing_Incidence_Angle_List']['Mean_Viewing_Incidence_Angle'][0][k])\n",
    "    return angles"
   ]
  },
  {
   "cell_type": "code",
   "execution_count": 108,
   "id": "de3b177c-773d-40fa-bd89-3f1f01255318",
   "metadata": {},
   "outputs": [
    {
     "data": {
      "text/plain": [
       "{'SOLAR_ZENITH_ANGLE': 29.9793624960938,\n",
       " 'VIEW_ZENITH_ANGLE': 3.06889419958891,\n",
       " 'SOLAR_AZIMUTH_ANGLE': 157.124519128112,\n",
       " 'VIEW_AZIMUTH_ANGLE': 173.991655773712}"
      ]
     },
     "execution_count": 108,
     "metadata": {},
     "output_type": "execute_result"
    }
   ],
   "source": [
    "A = get_angles(os.path.join(s2_root,\n",
    "                            'S2A_MSIL1C_20200625T110631_N0209_R137_T30UXC_20200625T114101.SAFE',\n",
    "                            'GRANULE','L1C_T30UXC_A026160_20200625T111446','MTD_TL.xml'))\n",
    "A"
   ]
  },
  {
   "cell_type": "code",
   "execution_count": 111,
   "id": "036eb138-9e7e-4023-959a-adaf47210a44",
   "metadata": {},
   "outputs": [],
   "source": [
    "import rioxarray"
   ]
  },
  {
   "cell_type": "code",
   "execution_count": 150,
   "id": "6df7e315-3b58-4624-8e10-58478c3503f7",
   "metadata": {},
   "outputs": [],
   "source": [
    "s2a_1c_paths = [\n",
    "    'S2A_MSIL1C_20200625T110631_N0209_R137_T30UXC_20200625T114101.SAFE/GRANULE/L1C_T30UXC_A026160_20200625T111446/IMG_DATA/T30UXC_20200625T110631_B02.jp2',\n",
    "    'S2A_MSIL1C_20200625T110631_N0209_R137_T30UXC_20200625T114101.SAFE/GRANULE/L1C_T30UXC_A026160_20200625T111446/IMG_DATA/T30UXC_20200625T110631_B03.jp2',\n",
    "    'S2A_MSIL1C_20200625T110631_N0209_R137_T30UXC_20200625T114101.SAFE/GRANULE/L1C_T30UXC_A026160_20200625T111446/IMG_DATA/T30UXC_20200625T110631_B04.jp2',\n",
    "    'S2A_MSIL1C_20200625T110631_N0209_R137_T30UXC_20200625T114101.SAFE/GRANULE/L1C_T30UXC_A026160_20200625T111446/IMG_DATA/T30UXC_20200625T110631_B08.jp2'\n",
    "]\n",
    "\n",
    "s2a_2a_paths = [\n",
    "    'S2A_MSIL2A_20200625T110631_N0214_R137_T30UXC_20200625T122333.SAFE/GRANULE/L2A_T30UXC_A026160_20200625T111446/IMG_DATA/R10m/T30UXC_20200625T110631_B02_10m.jp2',\n",
    "    'S2A_MSIL2A_20200625T110631_N0214_R137_T30UXC_20200625T122333.SAFE/GRANULE/L2A_T30UXC_A026160_20200625T111446/IMG_DATA/R10m/T30UXC_20200625T110631_B03_10m.jp2',\n",
    "    'S2A_MSIL2A_20200625T110631_N0214_R137_T30UXC_20200625T122333.SAFE/GRANULE/L2A_T30UXC_A026160_20200625T111446/IMG_DATA/R10m/T30UXC_20200625T110631_B04_10m.jp2',\n",
    "    'S2A_MSIL2A_20200625T110631_N0214_R137_T30UXC_20200625T122333.SAFE/GRANULE/L2A_T30UXC_A026160_20200625T111446/IMG_DATA/R10m/T30UXC_20200625T110631_B08_10m.jp2'\n",
    "]\n",
    "\n",
    "s2a_1c_paths_20 = [\n",
    "    'S2A_MSIL1C_20200625T110631_N0209_R137_T30UXC_20200625T114101.SAFE/GRANULE/L1C_T30UXC_A026160_20200625T111446/IMG_DATA/T30UXC_20200625T110631_B05.jp2',\n",
    "    'S2A_MSIL1C_20200625T110631_N0209_R137_T30UXC_20200625T114101.SAFE/GRANULE/L1C_T30UXC_A026160_20200625T111446/IMG_DATA/T30UXC_20200625T110631_B06.jp2',\n",
    "    'S2A_MSIL1C_20200625T110631_N0209_R137_T30UXC_20200625T114101.SAFE/GRANULE/L1C_T30UXC_A026160_20200625T111446/IMG_DATA/T30UXC_20200625T110631_B07.jp2',\n",
    "    'S2A_MSIL1C_20200625T110631_N0209_R137_T30UXC_20200625T114101.SAFE/GRANULE/L1C_T30UXC_A026160_20200625T111446/IMG_DATA/T30UXC_20200625T110631_B8A.jp2',\n",
    "    'S2A_MSIL1C_20200625T110631_N0209_R137_T30UXC_20200625T114101.SAFE/GRANULE/L1C_T30UXC_A026160_20200625T111446/IMG_DATA/T30UXC_20200625T110631_B11.jp2',\n",
    "    'S2A_MSIL1C_20200625T110631_N0209_R137_T30UXC_20200625T114101.SAFE/GRANULE/L1C_T30UXC_A026160_20200625T111446/IMG_DATA/T30UXC_20200625T110631_B12.jp2',\n",
    "]\n",
    "\n",
    "s2a_2a_paths_20 = [\n",
    "    'S2A_MSIL2A_20200625T110631_N0214_R137_T30UXC_20200625T122333.SAFE/GRANULE/L2A_T30UXC_A026160_20200625T111446/IMG_DATA/R20m/T30UXC_20200625T110631_B05_20m.jp2',\n",
    "    'S2A_MSIL2A_20200625T110631_N0214_R137_T30UXC_20200625T122333.SAFE/GRANULE/L2A_T30UXC_A026160_20200625T111446/IMG_DATA/R20m/T30UXC_20200625T110631_B06_20m.jp2',\n",
    "    'S2A_MSIL2A_20200625T110631_N0214_R137_T30UXC_20200625T122333.SAFE/GRANULE/L2A_T30UXC_A026160_20200625T111446/IMG_DATA/R20m/T30UXC_20200625T110631_B07_20m.jp2',\n",
    "    'S2A_MSIL2A_20200625T110631_N0214_R137_T30UXC_20200625T122333.SAFE/GRANULE/L2A_T30UXC_A026160_20200625T111446/IMG_DATA/R20m/T30UXC_20200625T110631_B8A_20m.jp2',\n",
    "    'S2A_MSIL2A_20200625T110631_N0214_R137_T30UXC_20200625T122333.SAFE/GRANULE/L2A_T30UXC_A026160_20200625T111446/IMG_DATA/R20m/T30UXC_20200625T110631_B11_20m.jp2',\n",
    "    'S2A_MSIL2A_20200625T110631_N0214_R137_T30UXC_20200625T122333.SAFE/GRANULE/L2A_T30UXC_A026160_20200625T111446/IMG_DATA/R20m/T30UXC_20200625T110631_B12_20m.jp2',\n",
    "]\n",
    "\n",
    "bounds = gdf1.total_bounds\n",
    "\n",
    "def load_data(paths, bands, root=s2_root, bounds=bounds,):\n",
    "    arrs = []\n",
    "    for p in paths:\n",
    "        arrs.append(\n",
    "            rioxarray.open_rasterio(os.path.join(root, p)).rio.clip_box(*bounds)\n",
    "        )\n",
    "    return xarray.concat(arrs, dim='band').assign_coords(band=bands)\n",
    "\n",
    "s2a_l1c_10m = load_data(s2a_1c_paths, [1,2,3,7])\n",
    "s2a_l2a_10m = load_data(s2a_2a_paths, [1,2,3,7])\n",
    "\n",
    "s2a_l1c_20m = load_data(s2a_1c_paths_20, [4, 5, 6, 8, 11, 12])\n",
    "s2a_l2a_20m = load_data(s2a_2a_paths_20, [4, 5, 6, 8, 11, 12])"
   ]
  },
  {
   "cell_type": "code",
   "execution_count": 172,
   "id": "dacfb377-6100-4003-957f-d88506a85ca9",
   "metadata": {},
   "outputs": [],
   "source": [
    "from pyeosim.spectral import Sentinel2A"
   ]
  },
  {
   "cell_type": "code",
   "execution_count": 181,
   "id": "4800bfc9-489d-4819-a3a9-4d9dd243d3d8",
   "metadata": {},
   "outputs": [],
   "source": [
    "from atmospheric_correction import SREM_Reflectance"
   ]
  },
  {
   "cell_type": "code",
   "execution_count": 184,
   "id": "bd875b14-843c-4204-89c4-540071547b7a",
   "metadata": {},
   "outputs": [],
   "source": [
    "AC = SREM_Reflectance(\n",
    "    A['SOLAR_ZENITH_ANGLE'],\n",
    "    A['SOLAR_AZIMUTH_ANGLE'],\n",
    "    A['VIEW_ZENITH_ANGLE'],\n",
    "    A['VIEW_AZIMUTH_ANGLE'],\n",
    "    176, Sentinel2A()\n",
    "    \n",
    ")"
   ]
  },
  {
   "cell_type": "code",
   "execution_count": 196,
   "id": "3d28e3d9-f3c9-40f5-a193-2b448ad5904e",
   "metadata": {},
   "outputs": [
    {
     "data": {
      "text/plain": [
       "['B2', 'B3', 'B4', 'B5', 'B6', 'B7', 'B8', 'B8A']"
      ]
     },
     "execution_count": 196,
     "metadata": {},
     "output_type": "execute_result"
    }
   ],
   "source": [
    "Sentinel2A().band_names"
   ]
  },
  {
   "cell_type": "code",
   "execution_count": 212,
   "id": "66f690d3-829a-4746-b642-4f877beeba56",
   "metadata": {},
   "outputs": [],
   "source": [
    "import matplotlib.pyplot as plt\n",
    "import numpy as np"
   ]
  },
  {
   "cell_type": "code",
   "execution_count": 170,
   "id": "7ace8198-9cd0-4f38-bb04-37b05890c932",
   "metadata": {},
   "outputs": [],
   "source": [
    "xarray.Dataset({'reflectance': xarray.concat([\n",
    "    s2a_l2a_10m,\n",
    "    s2a_l2a_20m.interp_like(s2a_l2a_10m.isel(band=0))], dim='band').sortby('band').astype('uint16')}).to_netcdf(\n",
    "    'data/Milton_Keynes_Sentinel2_L2A.nc'\n",
    ")\n",
    "\n",
    "xarray.Dataset({'reflectance': xarray.concat([\n",
    "    s2a_l1c_10m,\n",
    "    s2a_l1c_20m.interp_like(s2a_l1c_10m.isel(band=0))], dim='band').sortby('band').astype('uint16')}).to_netcdf(\n",
    "    'data/Milton_Keynes_Sentinel2_L1C.nc'\n",
    ")"
   ]
  },
  {
   "cell_type": "code",
   "execution_count": null,
   "id": "5267feac-393f-415f-99d9-09926561cdac",
   "metadata": {},
   "outputs": [],
   "source": [
    "import Py6S\n",
    "def generate_transformer(solar_z, solar_a, view_z, view_a, day, month):\n",
    "    s2_srf = Sentinel2VNIR()\n",
    "    # OZONE = 0.009\n",
    "    OZONE = 0.00735 # central UK average from MODIS for March-September 2021\n",
    "    AOT = 0.16\n",
    "    WVP = 1.37\n",
    "    # WVP=0\n",
    "    s = Py6S.SixS()\n",
    "    geom = Py6S.Geometry.User()\n",
    "    geom.solar_a = solar_a\n",
    "    geom.solar_z = solar_z\n",
    "    geom.view_z = view_z\n",
    "    geom.view_a = view_a\n",
    "    geom.day = day\n",
    "    geom.month = month\n",
    "    s.geometry = geom\n",
    "    \n",
    "    s.altitudes.set_sensor_satellite_level()\n",
    "    s.ground_reflectance = Py6S.GroundReflectance.HomogeneousLambertian(1)\n",
    "    # s.atmos_profile = Py6S.AtmosProfile().PredefinedType(0)\n",
    "    s.atmos_profile = Py6S.AtmosProfile().UserWaterAndOzone(WVP, OZONE)\n",
    "    s.aot550 = AOT\n",
    "    \n",
    "    t = SixSV_atmosphere(s)\n",
    "    t.fit(s2_srf)\n",
    "    return t"
   ]
  }
 ],
 "metadata": {
  "kernelspec": {
   "display_name": "Python 3 (ipykernel)",
   "language": "python",
   "name": "python3"
  },
  "language_info": {
   "codemirror_mode": {
    "name": "ipython",
    "version": 3
   },
   "file_extension": ".py",
   "mimetype": "text/x-python",
   "name": "python",
   "nbconvert_exporter": "python",
   "pygments_lexer": "ipython3",
   "version": "3.9.18"
  }
 },
 "nbformat": 4,
 "nbformat_minor": 5
}
