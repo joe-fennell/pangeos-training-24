{
 "cells": [
  {
   "cell_type": "code",
   "execution_count": 1,
   "id": "4e84c377-ccb9-4bd9-95b6-2335f466d195",
   "metadata": {},
   "outputs": [],
   "source": [
    "import hsman\n",
    "import os\n",
    "import xarray\n",
    "import rioxarray\n",
    "import xmltodict\n",
    "import geopandas\n",
    "from shapely.geometry import Polygon"
   ]
  },
  {
   "cell_type": "code",
   "execution_count": 2,
   "id": "55c559b0-adf5-42df-a319-e2498c7a5f4d",
   "metadata": {},
   "outputs": [
    {
     "data": {
      "text/html": [
       "<div>\n",
       "<style scoped>\n",
       "    .dataframe tbody tr th:only-of-type {\n",
       "        vertical-align: middle;\n",
       "    }\n",
       "\n",
       "    .dataframe tbody tr th {\n",
       "        vertical-align: top;\n",
       "    }\n",
       "\n",
       "    .dataframe thead th {\n",
       "        text-align: right;\n",
       "    }\n",
       "</style>\n",
       "<table border=\"1\" class=\"dataframe\">\n",
       "  <thead>\n",
       "    <tr style=\"text-align: right;\">\n",
       "      <th></th>\n",
       "      <th>index</th>\n",
       "      <th>dataset</th>\n",
       "      <th>geometry</th>\n",
       "      <th>Site</th>\n",
       "      <th>type</th>\n",
       "      <th>date</th>\n",
       "    </tr>\n",
       "    <tr>\n",
       "      <th>ID</th>\n",
       "      <th></th>\n",
       "      <th></th>\n",
       "      <th></th>\n",
       "      <th></th>\n",
       "      <th></th>\n",
       "      <th></th>\n",
       "    </tr>\n",
       "  </thead>\n",
       "  <tbody>\n",
       "    <tr>\n",
       "      <th>OUMI1202006221</th>\n",
       "      <td>54</td>\n",
       "      <td>OUMI1202006221_DSM_aerial</td>\n",
       "      <td>POLYGON ((-0.83758 52.04093, -0.69362 52.03820...</td>\n",
       "      <td>OUMI1</td>\n",
       "      <td>DSM</td>\n",
       "      <td>2020-06-22</td>\n",
       "    </tr>\n",
       "    <tr>\n",
       "      <th>OUMI1202006221</th>\n",
       "      <td>33</td>\n",
       "      <td>OUMI1202006221_DTM_aerial</td>\n",
       "      <td>POLYGON ((-0.83758 52.04093, -0.69362 52.03820...</td>\n",
       "      <td>OUMI1</td>\n",
       "      <td>DTM</td>\n",
       "      <td>2020-06-22</td>\n",
       "    </tr>\n",
       "    <tr>\n",
       "      <th>OUMI1202006221</th>\n",
       "      <td>28</td>\n",
       "      <td>OUMI1202006221_RGB_aerial</td>\n",
       "      <td>POLYGON ((-0.83758 52.04092, -0.69348 52.03819...</td>\n",
       "      <td>OUMI1</td>\n",
       "      <td>RGB</td>\n",
       "      <td>2020-06-22</td>\n",
       "    </tr>\n",
       "    <tr>\n",
       "      <th>OUMI1202006221</th>\n",
       "      <td>64</td>\n",
       "      <td>OUMI1202006221_SWIR_aerial</td>\n",
       "      <td>POLYGON ((-0.83587 52.03894, -0.69733 52.03632...</td>\n",
       "      <td>OUMI1</td>\n",
       "      <td>SWIR</td>\n",
       "      <td>2020-06-22</td>\n",
       "    </tr>\n",
       "    <tr>\n",
       "      <th>OUMI1202006221</th>\n",
       "      <td>21</td>\n",
       "      <td>OUMI1202006221_VNIR_aerial</td>\n",
       "      <td>POLYGON ((-0.83612 52.03896, -0.69738 52.03632...</td>\n",
       "      <td>OUMI1</td>\n",
       "      <td>VNIR</td>\n",
       "      <td>2020-06-22</td>\n",
       "    </tr>\n",
       "  </tbody>\n",
       "</table>\n",
       "</div>"
      ],
      "text/plain": [
       "                index                     dataset  \\\n",
       "ID                                                  \n",
       "OUMI1202006221     54   OUMI1202006221_DSM_aerial   \n",
       "OUMI1202006221     33   OUMI1202006221_DTM_aerial   \n",
       "OUMI1202006221     28   OUMI1202006221_RGB_aerial   \n",
       "OUMI1202006221     64  OUMI1202006221_SWIR_aerial   \n",
       "OUMI1202006221     21  OUMI1202006221_VNIR_aerial   \n",
       "\n",
       "                                                         geometry   Site  \\\n",
       "ID                                                                         \n",
       "OUMI1202006221  POLYGON ((-0.83758 52.04093, -0.69362 52.03820...  OUMI1   \n",
       "OUMI1202006221  POLYGON ((-0.83758 52.04093, -0.69362 52.03820...  OUMI1   \n",
       "OUMI1202006221  POLYGON ((-0.83758 52.04092, -0.69348 52.03819...  OUMI1   \n",
       "OUMI1202006221  POLYGON ((-0.83587 52.03894, -0.69733 52.03632...  OUMI1   \n",
       "OUMI1202006221  POLYGON ((-0.83612 52.03896, -0.69738 52.03632...  OUMI1   \n",
       "\n",
       "                type       date  \n",
       "ID                               \n",
       "OUMI1202006221   DSM 2020-06-22  \n",
       "OUMI1202006221   DTM 2020-06-22  \n",
       "OUMI1202006221   RGB 2020-06-22  \n",
       "OUMI1202006221  SWIR 2020-06-22  \n",
       "OUMI1202006221  VNIR 2020-06-22  "
      ]
     },
     "execution_count": 2,
     "metadata": {},
     "output_type": "execute_result"
    }
   ],
   "source": [
    "# clip large dataset to area of annotation\n",
    "gdf1 = geopandas.read_file('data/Milton_Keynes_labels.gpkg')\n",
    "\n",
    "# internal data manager\n",
    "hsman.get_datasets().set_index('ID').loc['OUMI1202006221']"
   ]
  },
  {
   "cell_type": "code",
   "execution_count": 3,
   "id": "8e4ccae4-8861-4a34-bfcb-c1f83e3ddc3a",
   "metadata": {},
   "outputs": [
    {
     "data": {
      "text/plain": [
       "['S2B_MSIL1C_20211202T111329_N0301_R137_T30UXC_20211202T120633.SAFE',\n",
       " 'S2B_MSIL2A_20211202T111329_N0301_R137_T30UXC_20211202T125422.SAFE',\n",
       " 'S2A_MSIL2A_20200625T110631_N0214_R137_T30UXC_20200625T122333.SAFE',\n",
       " 'S2A_MSIL1C_20200625T110631_N0209_R137_T30UXC_20200625T114101.SAFE',\n",
       " '.ipynb_checkpoints']"
      ]
     },
     "execution_count": 3,
     "metadata": {},
     "output_type": "execute_result"
    }
   ],
   "source": [
    "s2_root = '/STEM/data/project/Treeview/satellite/sentinel2/'\n",
    "os.listdir(s2_root)"
   ]
  },
  {
   "cell_type": "code",
   "execution_count": 4,
   "id": "e8c55243-327a-479f-ad5e-6ab2f9796b3c",
   "metadata": {},
   "outputs": [],
   "source": [
    "def get_meta_data(fpath):\n",
    "    # try 2A\n",
    "    try:\n",
    "        with open(fpath, 'r') as f:\n",
    "            return xmltodict.parse(f.read())\n",
    "    except FileNotFoundError:\n",
    "        try:\n",
    "            _fpath = os.path.join(fpath, 'MTD_MSIL2A.xml')\n",
    "            with open(_fpath, 'r') as f:\n",
    "                return xmltodict.parse(f.read())\n",
    "        except FileNotFoundError:\n",
    "            _fpath = os.path.join(fpath, 'MTD_MSIL1C.xml')\n",
    "            with open(_fpath, 'r') as f:\n",
    "                return xmltodict.parse(f.read())\n",
    "            \n",
    "def get_angles(fpath):\n",
    "    def _parse(entry):\n",
    "        return float(entry['#text'])\n",
    "    angle_dict = get_meta_data(fpath)['n1:Level-1C_Tile_ID']['n1:Geometric_Info']['Tile_Angles']\n",
    "    angles = {}\n",
    "    for k in ['ZENITH_ANGLE', 'AZIMUTH_ANGLE']:\n",
    "        angles['SOLAR_'+k] = _parse(angle_dict['Mean_Sun_Angle'][k])\n",
    "        angles['VIEW_'+k] = _parse(angle_dict['Mean_Viewing_Incidence_Angle_List']['Mean_Viewing_Incidence_Angle'][0][k])\n",
    "    return angles"
   ]
  },
  {
   "cell_type": "code",
   "execution_count": 5,
   "id": "de3b177c-773d-40fa-bd89-3f1f01255318",
   "metadata": {},
   "outputs": [
    {
     "data": {
      "text/plain": [
       "{'SOLAR_ZENITH_ANGLE': 29.9793624960938,\n",
       " 'VIEW_ZENITH_ANGLE': 3.06889419958891,\n",
       " 'SOLAR_AZIMUTH_ANGLE': 157.124519128112,\n",
       " 'VIEW_AZIMUTH_ANGLE': 173.991655773712}"
      ]
     },
     "execution_count": 5,
     "metadata": {},
     "output_type": "execute_result"
    }
   ],
   "source": [
    "A = get_angles(os.path.join(s2_root,\n",
    "                            'S2A_MSIL1C_20200625T110631_N0209_R137_T30UXC_20200625T114101.SAFE',\n",
    "                            'GRANULE','L1C_T30UXC_A026160_20200625T111446','MTD_TL.xml'))\n",
    "A"
   ]
  },
  {
   "cell_type": "code",
   "execution_count": 6,
   "id": "08e1fe2a-d91a-4463-87cb-ff8973d6c48e",
   "metadata": {},
   "outputs": [],
   "source": [
    "# buffer it by 50m\n",
    "bounds_S2A = Polygon.from_bounds(*gdf1.total_bounds).buffer(50).bounds"
   ]
  },
  {
   "cell_type": "code",
   "execution_count": 7,
   "id": "6df7e315-3b58-4624-8e10-58478c3503f7",
   "metadata": {},
   "outputs": [],
   "source": [
    "s2a_1c_paths = [\n",
    "    'S2A_MSIL1C_20200625T110631_N0209_R137_T30UXC_20200625T114101.SAFE/GRANULE/L1C_T30UXC_A026160_20200625T111446/IMG_DATA/T30UXC_20200625T110631_B02.jp2',\n",
    "    'S2A_MSIL1C_20200625T110631_N0209_R137_T30UXC_20200625T114101.SAFE/GRANULE/L1C_T30UXC_A026160_20200625T111446/IMG_DATA/T30UXC_20200625T110631_B03.jp2',\n",
    "    'S2A_MSIL1C_20200625T110631_N0209_R137_T30UXC_20200625T114101.SAFE/GRANULE/L1C_T30UXC_A026160_20200625T111446/IMG_DATA/T30UXC_20200625T110631_B04.jp2',\n",
    "    'S2A_MSIL1C_20200625T110631_N0209_R137_T30UXC_20200625T114101.SAFE/GRANULE/L1C_T30UXC_A026160_20200625T111446/IMG_DATA/T30UXC_20200625T110631_B08.jp2'\n",
    "]\n",
    "\n",
    "s2a_2a_paths = [\n",
    "    'S2A_MSIL2A_20200625T110631_N0214_R137_T30UXC_20200625T122333.SAFE/GRANULE/L2A_T30UXC_A026160_20200625T111446/IMG_DATA/R10m/T30UXC_20200625T110631_B02_10m.jp2',\n",
    "    'S2A_MSIL2A_20200625T110631_N0214_R137_T30UXC_20200625T122333.SAFE/GRANULE/L2A_T30UXC_A026160_20200625T111446/IMG_DATA/R10m/T30UXC_20200625T110631_B03_10m.jp2',\n",
    "    'S2A_MSIL2A_20200625T110631_N0214_R137_T30UXC_20200625T122333.SAFE/GRANULE/L2A_T30UXC_A026160_20200625T111446/IMG_DATA/R10m/T30UXC_20200625T110631_B04_10m.jp2',\n",
    "    'S2A_MSIL2A_20200625T110631_N0214_R137_T30UXC_20200625T122333.SAFE/GRANULE/L2A_T30UXC_A026160_20200625T111446/IMG_DATA/R10m/T30UXC_20200625T110631_B08_10m.jp2'\n",
    "]\n",
    "\n",
    "s2a_1c_paths_20 = [\n",
    "    'S2A_MSIL1C_20200625T110631_N0209_R137_T30UXC_20200625T114101.SAFE/GRANULE/L1C_T30UXC_A026160_20200625T111446/IMG_DATA/T30UXC_20200625T110631_B05.jp2',\n",
    "    'S2A_MSIL1C_20200625T110631_N0209_R137_T30UXC_20200625T114101.SAFE/GRANULE/L1C_T30UXC_A026160_20200625T111446/IMG_DATA/T30UXC_20200625T110631_B06.jp2',\n",
    "    'S2A_MSIL1C_20200625T110631_N0209_R137_T30UXC_20200625T114101.SAFE/GRANULE/L1C_T30UXC_A026160_20200625T111446/IMG_DATA/T30UXC_20200625T110631_B07.jp2',\n",
    "    'S2A_MSIL1C_20200625T110631_N0209_R137_T30UXC_20200625T114101.SAFE/GRANULE/L1C_T30UXC_A026160_20200625T111446/IMG_DATA/T30UXC_20200625T110631_B8A.jp2',\n",
    "    'S2A_MSIL1C_20200625T110631_N0209_R137_T30UXC_20200625T114101.SAFE/GRANULE/L1C_T30UXC_A026160_20200625T111446/IMG_DATA/T30UXC_20200625T110631_B11.jp2',\n",
    "    'S2A_MSIL1C_20200625T110631_N0209_R137_T30UXC_20200625T114101.SAFE/GRANULE/L1C_T30UXC_A026160_20200625T111446/IMG_DATA/T30UXC_20200625T110631_B12.jp2',\n",
    "]\n",
    "\n",
    "s2a_2a_paths_20 = [\n",
    "    'S2A_MSIL2A_20200625T110631_N0214_R137_T30UXC_20200625T122333.SAFE/GRANULE/L2A_T30UXC_A026160_20200625T111446/IMG_DATA/R20m/T30UXC_20200625T110631_B05_20m.jp2',\n",
    "    'S2A_MSIL2A_20200625T110631_N0214_R137_T30UXC_20200625T122333.SAFE/GRANULE/L2A_T30UXC_A026160_20200625T111446/IMG_DATA/R20m/T30UXC_20200625T110631_B06_20m.jp2',\n",
    "    'S2A_MSIL2A_20200625T110631_N0214_R137_T30UXC_20200625T122333.SAFE/GRANULE/L2A_T30UXC_A026160_20200625T111446/IMG_DATA/R20m/T30UXC_20200625T110631_B07_20m.jp2',\n",
    "    'S2A_MSIL2A_20200625T110631_N0214_R137_T30UXC_20200625T122333.SAFE/GRANULE/L2A_T30UXC_A026160_20200625T111446/IMG_DATA/R20m/T30UXC_20200625T110631_B8A_20m.jp2',\n",
    "    'S2A_MSIL2A_20200625T110631_N0214_R137_T30UXC_20200625T122333.SAFE/GRANULE/L2A_T30UXC_A026160_20200625T111446/IMG_DATA/R20m/T30UXC_20200625T110631_B11_20m.jp2',\n",
    "    'S2A_MSIL2A_20200625T110631_N0214_R137_T30UXC_20200625T122333.SAFE/GRANULE/L2A_T30UXC_A026160_20200625T111446/IMG_DATA/R20m/T30UXC_20200625T110631_B12_20m.jp2',\n",
    "]\n",
    "\n",
    "def load_data(paths, bands, root=s2_root, bounds=bounds_S2A):\n",
    "    arrs = []\n",
    "    for p in paths:\n",
    "        arrs.append(\n",
    "            rioxarray.open_rasterio(os.path.join(root, p)).rio.clip_box(*bounds_S2A,)\n",
    "        )\n",
    "    return xarray.concat(arrs, dim='band').assign_coords(band=bands)\n",
    "\n",
    "s2a_l1c_10m = load_data(s2a_1c_paths, [0,1,2,6])\n",
    "s2a_l2a_10m = load_data(s2a_2a_paths, [0,1,2,6])\n",
    "\n",
    "s2a_l1c_20m = load_data(s2a_1c_paths_20, [3, 4, 5, 7, 8, 9])\n",
    "s2a_l2a_20m = load_data(s2a_2a_paths_20, [3, 4, 5, 7, 8, 9])"
   ]
  },
  {
   "cell_type": "code",
   "execution_count": 8,
   "id": "affcf717-836e-48f2-9706-cbbb077f5075",
   "metadata": {},
   "outputs": [],
   "source": [
    "band_names = ['B2', 'B3', 'B4', 'B5', 'B6', 'B7', 'B8', 'B8A', 'B11','B12']\n",
    "s2a_l1c = xarray.Dataset(\n",
    "    {'reflectance': xarray.concat([ s2a_l1c_10m, s2a_l1c_20m.interp_like(s2a_l1c_10m.isel(band=0))],\n",
    "                                  dim='band').sortby('band').astype('uint16')},\n",
    "    coords = {'band_name': ('band', band_names)}\n",
    ")\n",
    "\n",
    "s2a_l2a = xarray.Dataset(\n",
    "    {'reflectance': xarray.concat([ s2a_l2a_10m, s2a_l2a_20m.interp_like(s2a_l2a_10m.isel(band=0))],\n",
    "                                  dim='band').sortby('band').astype('uint16')},\n",
    "    coords = {'band_name': ('band', band_names)}\n",
    ")"
   ]
  },
  {
   "cell_type": "code",
   "execution_count": 9,
   "id": "7ace8198-9cd0-4f38-bb04-37b05890c932",
   "metadata": {},
   "outputs": [],
   "source": [
    "s2a_l1c.to_netcdf(\n",
    "    'data/Milton_Keynes_Sentinel2_L1C.nc'\n",
    ")\n",
    "\n",
    "s2a_l2a.to_netcdf(\n",
    "    'data/Milton_Keynes_Sentinel2_L2A.nc'\n",
    ")"
   ]
  },
  {
   "cell_type": "code",
   "execution_count": 10,
   "id": "aaca344b-f35b-4b1c-8464-0e1172f9e33c",
   "metadata": {},
   "outputs": [],
   "source": [
    "# df1 = hsman.open_dataset('OUMI1202006221_VNIR_aerial')\n",
    "# df2 = hsman.open_dataset('OUMI1202006221_SWIR_aerial')\n",
    "\n",
    "\n",
    "# df1_mk_1 = df1.rio.clip_box(*gdf1.total_bounds).astype('uint16').compute()\n",
    "# df2_mk_1 = df2.rio.clip_box(*gdf1.total_bounds).astype('uint16').compute()\n",
    "\n",
    "# df1_mk_1.to_netcdf('data/mk_1_vnir.nc')\n",
    "# df2_mk_1.to_netcdf('data/mk_1_swir.nc')"
   ]
  }
 ],
 "metadata": {
  "kernelspec": {
   "display_name": "Python 3 (ipykernel)",
   "language": "python",
   "name": "python3"
  },
  "language_info": {
   "codemirror_mode": {
    "name": "ipython",
    "version": 3
   },
   "file_extension": ".py",
   "mimetype": "text/x-python",
   "name": "python",
   "nbconvert_exporter": "python",
   "pygments_lexer": "ipython3",
   "version": "3.9.18"
  }
 },
 "nbformat": 4,
 "nbformat_minor": 5
}
