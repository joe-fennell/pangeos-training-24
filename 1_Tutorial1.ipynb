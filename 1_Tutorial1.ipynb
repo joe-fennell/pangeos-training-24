{
 "cells": [
  {
   "cell_type": "code",
   "execution_count": 1,
   "id": "72bbc681-639d-40e1-9c06-670e3b3acaa2",
   "metadata": {},
   "outputs": [],
   "source": [
    "import get_course_data\n",
    "\n",
    "import xarray\n",
    "import geopandas\n",
    "import numpy as np\n",
    "from pyeosim.atmosphere import SixSV_atmosphere\n",
    "from Six"
   ]
  },
  {
   "cell_type": "code",
   "execution_count": 2,
   "id": "4c1287fe-6f5c-4655-b785-d2058f60b293",
   "metadata": {},
   "outputs": [],
   "source": [
    "## Uncomment and run this cell if you have not downloaded the course data\n",
    "#get_course_data.download()"
   ]
  },
  {
   "cell_type": "markdown",
   "id": "126943fd-7c58-40f8-b71f-95f45c238fb3",
   "metadata": {},
   "source": [
    "Here is a list of the raw datasets for running the emulation code:"
   ]
  },
  {
   "cell_type": "code",
   "execution_count": 4,
   "id": "d1124ed0-fd4f-4f00-9e22-d30aa6196739",
   "metadata": {},
   "outputs": [
    {
     "data": {
      "text/plain": [
       "['data/Milton_Keynes_labels.gpkg',\n",
       " 'data/Milton_Keynes_VisVNIR.nc',\n",
       " 'data/Milton_Keynes_SWIR.nc']"
      ]
     },
     "execution_count": 4,
     "metadata": {},
     "output_type": "execute_result"
    }
   ],
   "source": [
    "get_course_data.file_paths"
   ]
  },
  {
   "cell_type": "markdown",
   "id": "c948cd78-5b5d-480e-afae-12e36fda44fc",
   "metadata": {},
   "source": [
    "These all relate to a small area of Milton Keynes with aerial data captured on 22nd of June 2020 at 13.00 BST (solar noon)"
   ]
  },
  {
   "cell_type": "markdown",
   "id": "5e1d9db6-1c72-4a74-b8f1-7c7781f7e169",
   "metadata": {},
   "source": [
    "## Running our first simulation"
   ]
  },
  {
   "cell_type": "code",
   "execution_count": null,
   "id": "80695d5b-3e8d-4642-851a-986a5a3ea2f0",
   "metadata": {},
   "outputs": [],
   "source": [
    "pyeosim."
   ]
  }
 ],
 "metadata": {
  "kernelspec": {
   "display_name": "Python 3 (ipykernel)",
   "language": "python",
   "name": "python3"
  },
  "language_info": {
   "codemirror_mode": {
    "name": "ipython",
    "version": 3
   },
   "file_extension": ".py",
   "mimetype": "text/x-python",
   "name": "python",
   "nbconvert_exporter": "python",
   "pygments_lexer": "ipython3",
   "version": "3.9.18"
  }
 },
 "nbformat": 4,
 "nbformat_minor": 5
}
