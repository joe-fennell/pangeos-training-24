{
 "cells": [
  {
   "cell_type": "code",
   "execution_count": null,
   "id": "a4f3d270-0270-48b1-a33a-f7e0a5114579",
   "metadata": {},
   "outputs": [],
   "source": [
    "Sentinel_2_geometry = {\n",
    "    'SOLAR_ZENITH_ANGLE': 29.9793624960938,\n",
    "    'VIEW_ZENITH_ANGLE': 3.06889419958891,\n",
    "    'SOLAR_AZIMUTH_ANGLE': 157.124519128112,\n",
    "    'VIEW_AZIMUTH_ANGLE': 173.991655773712\n",
    "}"
   ]
  }
 ],
 "metadata": {
  "kernelspec": {
   "display_name": "Python 3 (ipykernel)",
   "language": "python",
   "name": "python3"
  },
  "language_info": {
   "codemirror_mode": {
    "name": "ipython",
    "version": 3
   },
   "file_extension": ".py",
   "mimetype": "text/x-python",
   "name": "python",
   "nbconvert_exporter": "python",
   "pygments_lexer": "ipython3",
   "version": "3.9.18"
  }
 },
 "nbformat": 4,
 "nbformat_minor": 5
}
